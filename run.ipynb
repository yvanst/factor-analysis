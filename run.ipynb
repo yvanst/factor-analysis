{
 "cells": [
  {
   "cell_type": "code",
   "execution_count": null,
   "metadata": {},
   "outputs": [],
   "source": [
    "import datetime\n",
    "\n",
    "from src.analysis.plot import Plot\n",
    "from src.backtest import BackTest\n",
    "from src.benchmark import Benchmark\n",
    "from src.factor.roe import RoeFactor\n",
    "from src.fund_universe import SECURITY_SEDOL\n",
    "from src.market import Market\n",
    "from src.portfolio import Portfolio\n",
    "from src.rebalance import Rebalance\n",
    "from src.security_symbol import SecurityTicker\n",
    "from src.analysis.var import Var\n",
    "from src.analysis.risk_breakdown_to_factor import RiskBreakdownToFactor\n",
    "from src.analysis.monthly_performance import MonthlyPerformance"
   ]
  },
  {
   "cell_type": "code",
   "execution_count": null,
   "metadata": {},
   "outputs": [],
   "source": [
    "start_date = datetime.date(2020, 9, 30)\n",
    "end_date = datetime.date(2020, 12, 31)\n",
    "security_universe = SECURITY_SEDOL\n",
    "rebalance_period = 1\n",
    "rebalance_interval = \"1mo\"\n",
    "# could be EQUAL|MIN_TE|MVO\n",
    "# rebalance_weight_strategy = \"MVO\"\n",
    "Factor = RoeFactor\n",
    "market = Market(security_universe, start_date, end_date)\n",
    "benchmark = Benchmark(SecurityTicker(\"^SPX\", \"index\"), start_date, end_date)\n",
    "benchmark_performance = benchmark.get_performance()"
   ]
  },
  {
   "cell_type": "code",
   "execution_count": null,
   "metadata": {},
   "outputs": [],
   "source": [
    "### equal weight factor\n",
    "equal_factor = Factor(security_universe, \"long\")\n",
    "equal_portfolio = Portfolio(100.0, start_date, end_date)\n",
    "equal_factor.set_portfolio_at_start(equal_portfolio)\n",
    "\n",
    "rebalance = Rebalance(\n",
    "    rebalance_period,\n",
    "    equal_portfolio,\n",
    "    equal_factor,\n",
    "    benchmark,\n",
    "    rebalance_interval,\n",
    "    \"EQUAL\",\n",
    ")\n",
    "\n",
    "backtest = BackTest(equal_portfolio, market, rebalance)\n",
    "backtest.run()"
   ]
  },
  {
   "cell_type": "code",
   "execution_count": null,
   "metadata": {},
   "outputs": [],
   "source": [
    "# var analysis\n",
    "var = Var(equal_portfolio.value_book.select(\"date\", \"value\"))\n",
    "print(\"normal distibution:\")\n",
    "display(var.get_normal_distribution_var())\n",
    "print(\"imperical value:\")\n",
    "display(var.get_imperical_var())"
   ]
  },
  {
   "cell_type": "code",
   "execution_count": null,
   "metadata": {},
   "outputs": [],
   "source": [
    "rb = RiskBreakdownToFactor(equal_portfolio, benchmark, end_date)\n",
    "rb.plot_correlation()"
   ]
  },
  {
   "cell_type": "code",
   "execution_count": null,
   "metadata": {},
   "outputs": [],
   "source": [
    "rb.total_risk_breakdown_analysis()"
   ]
  },
  {
   "cell_type": "code",
   "execution_count": null,
   "metadata": {},
   "outputs": [],
   "source": [
    "rb.tracking_error_breakdown_analysis()"
   ]
  },
  {
   "cell_type": "code",
   "execution_count": null,
   "metadata": {},
   "outputs": [],
   "source": [
    "### minimum tracking error factor\n",
    "min_te_factor = Factor(security_universe, \"long\")\n",
    "min_te_portfolio = Portfolio(100.0, start_date, end_date)\n",
    "min_te_factor.set_portfolio_at_start(min_te_portfolio)\n",
    "\n",
    "rebalance = Rebalance(\n",
    "    rebalance_period,\n",
    "    min_te_portfolio,\n",
    "    min_te_factor,\n",
    "    benchmark,\n",
    "    rebalance_interval,\n",
    "    \"MIN_TE\",\n",
    ")\n",
    "\n",
    "backtest = BackTest(min_te_portfolio, market, rebalance)\n",
    "backtest.run()"
   ]
  },
  {
   "cell_type": "code",
   "execution_count": null,
   "metadata": {},
   "outputs": [],
   "source": [
    "### MVO factor\n",
    "mvo_factor = Factor(security_universe, \"long\")\n",
    "mvo_portfolio = Portfolio(100.0, start_date, end_date)\n",
    "mvo_factor.set_portfolio_at_start(mvo_portfolio)\n",
    "\n",
    "rebalance = Rebalance(\n",
    "    rebalance_period,\n",
    "    mvo_portfolio,\n",
    "    mvo_factor,\n",
    "    benchmark,\n",
    "    rebalance_interval,\n",
    "    \"MVO\",\n",
    ")\n",
    "\n",
    "backtest = BackTest(mvo_portfolio, market, rebalance)\n",
    "backtest.run()"
   ]
  },
  {
   "cell_type": "code",
   "execution_count": null,
   "metadata": {},
   "outputs": [],
   "source": [
    "### plot\n",
    "plot = Plot(\n",
    "    equal_portfolio,\n",
    "    min_te_portfolio,\n",
    "    mvo_portfolio,\n",
    "    benchmark_performance,\n",
    "    \"SPX\",\n",
    ")\n",
    "plot.plot_performance()"
   ]
  },
  {
   "cell_type": "code",
   "execution_count": null,
   "metadata": {},
   "outputs": [],
   "source": [
    "plot.plot_total_risk()"
   ]
  },
  {
   "cell_type": "code",
   "execution_count": null,
   "metadata": {},
   "outputs": [],
   "source": [
    "plot.plot_tracking_error()"
   ]
  },
  {
   "cell_type": "code",
   "execution_count": null,
   "metadata": {},
   "outputs": [],
   "source": [
    "import polars as pl\n",
    "\n",
    "stat1 = MonthlyPerformance().get_annualized_stat(\n",
    "    mvo_portfolio.value_book.select(\"date\", \"value\"), benchmark_performance\n",
    ")\n",
    "stat2 = MonthlyPerformance().get_annualized_stat(\n",
    "    min_te_portfolio.value_book.select(\"date\", \"value\"), benchmark_performance\n",
    ")\n",
    "stat3 = MonthlyPerformance().get_annualized_stat(\n",
    "    equal_portfolio.value_book.select(\"date\", \"value\"), benchmark_performance\n",
    ")\n",
    "stat = pl.concat([stat1, stat2, stat3], how=\"vertical\")\n",
    "pl.concat(\n",
    "    [\n",
    "        pl.DataFrame({\"label\": [\"MVO\", \"MIN_TE\", \"EQUAL WEIGHT\"]}),\n",
    "        stat,\n",
    "    ],\n",
    "    how=\"horizontal\",\n",
    ")"
   ]
  },
  {
   "cell_type": "code",
   "execution_count": null,
   "metadata": {},
   "outputs": [],
   "source": [
    "mvo_portfolio.total_risk_df"
   ]
  }
 ],
 "metadata": {
  "kernelspec": {
   "display_name": "Python 3 (ipykernel)",
   "language": "python",
   "name": "python3"
  },
  "language_info": {
   "codemirror_mode": {
    "name": "ipython",
    "version": 3
   },
   "file_extension": ".py",
   "mimetype": "text/x-python",
   "name": "python",
   "nbconvert_exporter": "python",
   "pygments_lexer": "ipython3",
   "version": "3.12.2"
  }
 },
 "nbformat": 4,
 "nbformat_minor": 4
}
